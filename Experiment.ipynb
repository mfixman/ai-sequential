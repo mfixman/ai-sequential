{
 "cells": [
  {
   "cell_type": "markdown",
   "id": "54242090-157b-4a3f-a1a6-0ff11f80747b",
   "metadata": {},
   "source": [
    "# Prelude"
   ]
  },
  {
   "cell_type": "code",
   "execution_count": 23,
   "id": "dff50e52-abb9-473d-afd0-7d3d4e92cc10",
   "metadata": {},
   "outputs": [],
   "source": [
    "import numpy\n",
    "import scipy\n",
    "import matplotlib\n",
    "import seaborn\n",
    "\n",
    "import torch\n",
    "import torch.nn as nn\n",
    "import datasets\n",
    "import wandb\n",
    "\n",
    "import random\n",
    "\n",
    "\n",
    "import nltk.lm as lm\n",
    "from nltk import ngrams\n",
    "from nltk import tokenize\n",
    "from nltk.corpus import stopwords, gutenberg\n",
    "from nltk.tokenize import word_tokenize\n",
    "from nltk.probability import FreqDist\n",
    "from nltk.tokenize import word_tokenize\n",
    "\n",
    "from matplotlib import pyplot"
   ]
  },
  {
   "cell_type": "code",
   "execution_count": 2,
   "id": "368fd1dc-46a5-4c3f-ac42-e76506d608a6",
   "metadata": {},
   "outputs": [],
   "source": [
    "import pickle"
   ]
  },
  {
   "cell_type": "markdown",
   "id": "c8105b3f-c195-4006-86bd-ca9493461791",
   "metadata": {},
   "source": [
    "# Let's print something the shape or whatever"
   ]
  },
  {
   "cell_type": "code",
   "execution_count": 3,
   "id": "94b47e0a-ca69-49e4-8107-d77870f24ea8",
   "metadata": {},
   "outputs": [],
   "source": [
    "dataset = datasets.load_dataset(\n",
    "    'cnn_dailymail',\n",
    "    '3.0.0',\n",
    ")"
   ]
  },
  {
   "cell_type": "code",
   "execution_count": 4,
   "id": "94184f59-8949-4ad8-b86d-79593f4b9073",
   "metadata": {},
   "outputs": [],
   "source": [
    "train = dataset['train']\n",
    "test = dataset['test']\n",
    "val = dataset['validation']"
   ]
  },
  {
   "cell_type": "code",
   "execution_count": 5,
   "id": "f2a5f152-66d8-4686-9e2d-9f87d4419ea7",
   "metadata": {},
   "outputs": [
    {
     "name": "stdout",
     "output_type": "stream",
     "text": [
      "(287113, 3)\n",
      "(11490, 3)\n",
      "(13368, 3)\n"
     ]
    }
   ],
   "source": [
    "print(train.shape)\n",
    "print(test.shape)\n",
    "print(val.shape)"
   ]
  },
  {
   "cell_type": "code",
   "execution_count": 6,
   "id": "7101638f-a905-4ae8-83d1-d483d0e1f292",
   "metadata": {},
   "outputs": [
    {
     "name": "stdout",
     "output_type": "stream",
     "text": [
      "LONDON, England (Reuters) -- Harry Potter star Daniel Radcliffe gains access to a reported £20 milli\n",
      "Harry Potter star Daniel Radcliffe gets £20M fortune as he turns 18 Monday .\n",
      "Young actor says he has\n"
     ]
    }
   ],
   "source": [
    "print(str(train.data[0][0])[:100])\n",
    "print(str(train.data[1][0])[:100])"
   ]
  },
  {
   "cell_type": "markdown",
   "id": "1dd3cba4-5ff7-459b-98c7-ac1a0351c46b",
   "metadata": {},
   "source": [
    "# Fun with NLTK"
   ]
  },
  {
   "cell_type": "markdown",
   "id": "87aa4684-09d9-4482-afdd-34a43b9a70d4",
   "metadata": {},
   "source": [
    "## Tokenising text"
   ]
  },
  {
   "cell_type": "code",
   "execution_count": 7,
   "id": "4aaa0f52-cf34-4f1e-a67d-86123181db7d",
   "metadata": {},
   "outputs": [],
   "source": [
    "train_text_raw = [tokenize.word_tokenize(str(x)) for x in train.data[0]]\n",
    "train_high_raw = [tokenize.word_tokenize(str(x)) for x in train.data[1]]"
   ]
  },
  {
   "cell_type": "code",
   "execution_count": null,
   "id": "f8a40e01-fd49-4be9-b4d3-98866ffce215",
   "metadata": {},
   "outputs": [],
   "source": [
    "pickle.dump(train_text_raw, open('train_text_raw.pickle', 'wb'), protocol = pickle.HIGHEST_PROTOCOL)\n",
    "pickle.dump(train_high_raw, open('train_high_raw.pickle', 'wb'), protocol = pickle.HIGHEST_PROTOCOL)"
   ]
  },
  {
   "cell_type": "markdown",
   "id": "a6dab6b3-00af-4c4e-81f5-75974b42213b",
   "metadata": {},
   "source": [
    "## Cleaning text"
   ]
  },
  {
   "cell_type": "code",
   "execution_count": 6,
   "id": "93b0c99b-3afe-4d30-8746-3c9853d4d696",
   "metadata": {},
   "outputs": [],
   "source": [
    "train_text_raw = pickle.load(open('train_text_raw.pickle', 'rb'))\n",
    "train_high_raw = pickle.load(open('train_high_raw.pickle', 'rb'))"
   ]
  },
  {
   "cell_type": "code",
   "execution_count": 8,
   "id": "6e23d08d-b72a-4d08-a1f7-dc2bb2147555",
   "metadata": {},
   "outputs": [],
   "source": [
    "words_raw = set.union(*[set(x) for x in train_text_raw]) | set.union(*[set(x) for x in train_high_raw])"
   ]
  },
  {
   "cell_type": "code",
   "execution_count": 9,
   "id": "aa1995dd-3fd8-471d-8c2a-22d9c275cf68",
   "metadata": {},
   "outputs": [],
   "source": [
    "stop_words = stopwords.words('english')\n",
    "# punctuation = set(x for x in sum(train_text, []) + sum(train_high, []) if not any(y.isalpha() or y.isdigit() for y in x))\n",
    "punctuation = set(x for x in words_raw if not any(y.isalpha() or y.isdigit() for y in x))"
   ]
  },
  {
   "cell_type": "code",
   "execution_count": 13,
   "id": "393ad81d-36c8-4a18-bc55-a8cabd4a0aad",
   "metadata": {},
   "outputs": [],
   "source": [
    "def clean(text):\n",
    "    return [\n",
    "        ''.join(x for x in word.lower() if x not in punctuation)\n",
    "        for word in text\n",
    "        if word.lower() not in stop_words and word not in punctuation\n",
    "    ]\n",
    "\n",
    "train_text = [clean(x) for x in train_text_raw]\n",
    "train_high = [clean(x) for x in train_high_raw]"
   ]
  },
  {
   "cell_type": "code",
   "execution_count": 16,
   "id": "326f8350-61f5-4907-bebf-29514664a9bb",
   "metadata": {},
   "outputs": [],
   "source": [
    "vocab = set.union(*[set(x) for x in train_text]) | set.union(*[set(x) for x in train_high])"
   ]
  },
  {
   "cell_type": "code",
   "execution_count": 17,
   "id": "fe4fbc7a-a240-4f56-bbde-55f3a717d3e4",
   "metadata": {},
   "outputs": [],
   "source": [
    "pickle.dump(train_text, open('train_text.pickle', 'wb'), protocol = pickle.HIGHEST_PROTOCOL)\n",
    "pickle.dump(train_high, open('train_high.pickle', 'wb'), protocol = pickle.HIGHEST_PROTOCOL)\n",
    "pickle.dump(vocab, open('vocab.pickle', 'wb'), protocol = pickle.HIGHEST_PROTOCOL)"
   ]
  },
  {
   "cell_type": "markdown",
   "id": "439c90ec-bb24-4422-9a8d-977a18439d20",
   "metadata": {},
   "source": [
    "## Later things"
   ]
  },
  {
   "cell_type": "code",
   "execution_count": 18,
   "id": "cc0041b0-3a06-4031-b9b8-8c8ca2587a1f",
   "metadata": {},
   "outputs": [],
   "source": [
    "train_text = pickle.load(open('train_text.pickle', 'rb'))\n",
    "train_high = pickle.load(open('train_high.pickle', 'rb'))\n",
    "vocab = list(pickle.load(open('vocab.pickle', 'rb')))"
   ]
  },
  {
   "cell_type": "code",
   "execution_count": 53,
   "id": "5fbe8489-6ae1-4b67-b073-f48d4426f99f",
   "metadata": {},
   "outputs": [
    {
     "data": {
      "text/plain": [
       "['malm',\n",
       " 'dahir',\n",
       " 'treeform',\n",
       " 'spectrograph',\n",
       " 'voas',\n",
       " 'monstercom',\n",
       " 'nanotattoo',\n",
       " 'bowlwinning',\n",
       " 'yamamota',\n",
       " 'politicalspeak',\n",
       " '2000ft',\n",
       " 'blann',\n",
       " 'baganga',\n",
       " 'westbrook',\n",
       " 'pradab',\n",
       " 'semiadolescence',\n",
       " 'intruder',\n",
       " 'nazli',\n",
       " '56consecutivegame',\n",
       " 'eishe',\n",
       " 'extraprecious',\n",
       " 'schoenkopf',\n",
       " '19902009',\n",
       " '637pm',\n",
       " 'peelschools',\n",
       " 'helstrip',\n",
       " 'laresident',\n",
       " 'missives',\n",
       " 'nullis',\n",
       " 'wwwhullkrcouk']"
      ]
     },
     "execution_count": 53,
     "metadata": {},
     "output_type": "execute_result"
    }
   ],
   "source": [
    "random.sample(vocab, 30)"
   ]
  }
 ],
 "metadata": {
  "kernelspec": {
   "display_name": "Python 3 (ipykernel)",
   "language": "python",
   "name": "python3"
  },
  "language_info": {
   "codemirror_mode": {
    "name": "ipython",
    "version": 3
   },
   "file_extension": ".py",
   "mimetype": "text/x-python",
   "name": "python",
   "nbconvert_exporter": "python",
   "pygments_lexer": "ipython3",
   "version": "3.11.7"
  }
 },
 "nbformat": 4,
 "nbformat_minor": 5
}
